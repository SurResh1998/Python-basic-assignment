{
 "cells": [
  {
   "cell_type": "markdown",
   "id": "8a00d3a6",
   "metadata": {},
   "source": [
    "# 1. In the below elements which of them are values or an expression? eg:- values can be integer or string and expressions will be mathematical operators.\n",
    "*,\n",
    "'hello',\n",
    "-87.8,\n",
    "-,\n",
    "/,\n",
    "+,\n",
    "6,"
   ]
  },
  {
   "cell_type": "markdown",
   "id": "ef5ce051",
   "metadata": {},
   "source": [
    "Ans: These are the values and expressions.\n",
    "     values : 'hello', -87.8,6\n",
    "     expressions : *, /, -, + "
   ]
  },
  {
   "cell_type": "markdown",
   "id": "2ad76040",
   "metadata": {},
   "source": [
    "# 2. What is the difference between string and variable?"
   ]
  },
  {
   "cell_type": "markdown",
   "id": "3aaa0e93",
   "metadata": {},
   "source": [
    "Ans: Variable - It is used to store various data-types likes strings,integer,float,etc..\n",
    "     String - It is a group of character which is enclosed within double quotes or single quotes, it is also a      information we can store in variable"
   ]
  },
  {
   "cell_type": "markdown",
   "id": "3576ed3b",
   "metadata": {},
   "source": [
    "# 3. Describe three different data types."
   ]
  },
  {
   "cell_type": "markdown",
   "id": "0ef7c172",
   "metadata": {},
   "source": [
    "Ans: 1)Float - This is used for decimal point values\n",
    "     2)Integer - It can be used to represent whole number\n",
    "     3)Strings - It is a group of character which is enclosed within double quotes or single quotes"
   ]
  },
  {
   "cell_type": "code",
   "execution_count": 3,
   "id": "7342ae3d",
   "metadata": {},
   "outputs": [
    {
     "name": "stdout",
     "output_type": "stream",
     "text": [
      "Data type is <class 'float'>\n",
      "Data type is <class 'int'>\n",
      "Data type is <class 'str'>\n"
     ]
    }
   ],
   "source": [
    "#)Examples:\n",
    "float_dt = 299.05\n",
    "Integer_dt = -2883\n",
    "string_dt = 'My name is suresh'\n",
    "print('Data type is',type(float_dt))\n",
    "print('Data type is',type(Integer_dt))\n",
    "print('Data type is',type(string_dt))\n"
   ]
  },
  {
   "cell_type": "markdown",
   "id": "320fe768",
   "metadata": {},
   "source": [
    "# 4. What is an expression made up of? What do all expressions do?"
   ]
  },
  {
   "cell_type": "markdown",
   "id": "bed6f572",
   "metadata": {},
   "source": [
    "Ans: An Expression is a sequence or combination of values, variables, operators and function calls that always produces or returns a result value."
   ]
  },
  {
   "cell_type": "code",
   "execution_count": 5,
   "id": "4e586110",
   "metadata": {},
   "outputs": [
    {
     "name": "stdout",
     "output_type": "stream",
     "text": [
      "169\n"
     ]
    }
   ],
   "source": [
    "#Example:\n",
    "a = 48+29+92  #)Expression, \n",
    "print(a)  #)Expression statement, and it has returned a value"
   ]
  },
  {
   "cell_type": "markdown",
   "id": "0d6abc48",
   "metadata": {},
   "source": [
    "# 5. This assignment statements, like spam = 10. What is the difference between an expression and a statement?"
   ]
  },
  {
   "cell_type": "markdown",
   "id": "2a3cd2f5",
   "metadata": {},
   "source": [
    "Ans: Expression - An Expression is a sequence or combination of values, variables, operators and function calls that always produces or returns a result value. eg: a = 5,b=5, a+b =10\n",
    "     Statement - Anything a python intepreter that can execute, then it is called as statement.\n",
    "     Eg:d = a+b,print('d')"
   ]
  },
  {
   "cell_type": "markdown",
   "id": "42e84dec",
   "metadata": {},
   "source": [
    "# 6. After running the following code, what does the variable bacon contain?\n",
    "   bacon = 22\n",
    "   bacon + 1"
   ]
  },
  {
   "cell_type": "code",
   "execution_count": 8,
   "id": "83eab901",
   "metadata": {},
   "outputs": [
    {
     "name": "stdout",
     "output_type": "stream",
     "text": [
      "Bacon contain 22\n"
     ]
    }
   ],
   "source": [
    "bacon = 22\n",
    "bacon + 1     \n",
    "print('Bacon contain',bacon)   \n",
    "#)Answer :22, Because it doesn't reassign the value in bacon"
   ]
  },
  {
   "cell_type": "markdown",
   "id": "8875ad78",
   "metadata": {},
   "source": [
    "# 7. What should the values of the following two terms be? \n",
    "'spam' + 'spamspam'\n",
    "\n",
    "\n",
    "'spam' * 3"
   ]
  },
  {
   "cell_type": "code",
   "execution_count": 15,
   "id": "a948d694",
   "metadata": {},
   "outputs": [
    {
     "name": "stdout",
     "output_type": "stream",
     "text": [
      "spamspamspam\n"
     ]
    }
   ],
   "source": [
    "z = 'spam' + 'spamspam'\n",
    "print(z)"
   ]
  },
  {
   "cell_type": "code",
   "execution_count": 16,
   "id": "97aff326",
   "metadata": {},
   "outputs": [
    {
     "name": "stdout",
     "output_type": "stream",
     "text": [
      "spamspamspam\n"
     ]
    }
   ],
   "source": [
    "x = 'spam'* 3\n",
    "print(x)"
   ]
  },
  {
   "cell_type": "markdown",
   "id": "c67fd5af",
   "metadata": {},
   "source": [
    "# 8. Why is eggs a valid variable name while 100 is invalid?"
   ]
  },
  {
   "cell_type": "markdown",
   "id": "cbee8fb2",
   "metadata": {},
   "source": [
    "Ans: Variable is used to hold the various kinds of data-types, It always starts with letter, it doesn't support the variables starting with number\n",
    "Eggs - it is a variable\n",
    "100 - it is a number"
   ]
  },
  {
   "cell_type": "markdown",
   "id": "5b50ceba",
   "metadata": {},
   "source": [
    "# 9. What three functions can be used to get the integer, floating-point number, or string version of a value?"
   ]
  },
  {
   "cell_type": "code",
   "execution_count": null,
   "id": "ec20ff18",
   "metadata": {},
   "outputs": [],
   "source": [
    "Ans: int(),float(),str() will evaluate as per the values passed to them."
   ]
  },
  {
   "cell_type": "markdown",
   "id": "de6a95e6",
   "metadata": {},
   "source": [
    "# 10. Why does this expression cause an error? How can you fix it?\n",
    "'I have eaten'+ 99 + 'burritos'."
   ]
  },
  {
   "cell_type": "markdown",
   "id": "4da79a22",
   "metadata": {},
   "source": [
    "Ans: It causes error because 99 is not a string, so we need to convert it into string"
   ]
  },
  {
   "cell_type": "code",
   "execution_count": 36,
   "id": "2ca84041",
   "metadata": {},
   "outputs": [
    {
     "data": {
      "text/plain": [
       "'I have eaten 99 burritos.'"
      ]
     },
     "execution_count": 36,
     "metadata": {},
     "output_type": "execute_result"
    }
   ],
   "source": [
    "a = 'I have eaten'+ ' 99 ' + 'burritos.'\n",
    "a"
   ]
  },
  {
   "cell_type": "code",
   "execution_count": null,
   "id": "1a1ef5f0",
   "metadata": {},
   "outputs": [],
   "source": []
  }
 ],
 "metadata": {
  "kernelspec": {
   "display_name": "Python 3 (ipykernel)",
   "language": "python",
   "name": "python3"
  },
  "language_info": {
   "codemirror_mode": {
    "name": "ipython",
    "version": 3
   },
   "file_extension": ".py",
   "mimetype": "text/x-python",
   "name": "python",
   "nbconvert_exporter": "python",
   "pygments_lexer": "ipython3",
   "version": "3.9.7"
  }
 },
 "nbformat": 4,
 "nbformat_minor": 5
}
