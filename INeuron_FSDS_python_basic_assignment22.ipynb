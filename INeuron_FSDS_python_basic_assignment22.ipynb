{
 "cells": [
  {
   "cell_type": "markdown",
   "id": "33fe580f",
   "metadata": {},
   "source": [
    "### 1. What is the result of the code, and explain?"
   ]
  },
  {
   "cell_type": "code",
   "execution_count": 1,
   "id": "203a3100",
   "metadata": {},
   "outputs": [],
   "source": [
    "x = 'iNeuron'\n",
    "def func():\n",
    "    print(x)"
   ]
  },
  {
   "cell_type": "code",
   "execution_count": 2,
   "id": "63dce0d1",
   "metadata": {},
   "outputs": [
    {
     "name": "stdout",
     "output_type": "stream",
     "text": [
      "iNeuron\n"
     ]
    }
   ],
   "source": [
    "func()"
   ]
  },
  {
   "cell_type": "markdown",
   "id": "b6eb4d8d",
   "metadata": {},
   "source": [
    "The Result of this code is iNeuron, because the function intially looks for the variable X in its local scope,But since there is no local variable X, its returns the value of global variable"
   ]
  },
  {
   "cell_type": "markdown",
   "id": "3c690195",
   "metadata": {},
   "source": [
    "### 2. What is the result of the code, and explain?\n",
    "\n"
   ]
  },
  {
   "cell_type": "code",
   "execution_count": 3,
   "id": "19c2554f",
   "metadata": {},
   "outputs": [
    {
     "name": "stdout",
     "output_type": "stream",
     "text": [
      "NI!\n"
     ]
    }
   ],
   "source": [
    "X = 'iNeuron'\n",
    "def func():\n",
    "    X = 'NI!'\n",
    "    print(X)\n",
    "func()"
   ]
  },
  {
   "cell_type": "markdown",
   "id": "c27e5823",
   "metadata": {},
   "source": [
    "Since there is a 'x' in local scope, it take X= 'NI' value, only when the local scope is not available, it looks for the global scope"
   ]
  },
  {
   "cell_type": "markdown",
   "id": "083b52c8",
   "metadata": {},
   "source": [
    "### 3. What does this code print, and why?"
   ]
  },
  {
   "cell_type": "code",
   "execution_count": 4,
   "id": "9cbd0409",
   "metadata": {},
   "outputs": [
    {
     "name": "stdout",
     "output_type": "stream",
     "text": [
      "NI\n",
      "iNeuron\n"
     ]
    }
   ],
   "source": [
    "X = 'iNeuron'\n",
    "def func():\n",
    "    X = 'NI'\n",
    "    print(X)\n",
    "func()\n",
    "print(X)"
   ]
  },
  {
   "cell_type": "markdown",
   "id": "c5b34fe7",
   "metadata": {},
   "source": [
    "Result of the code is NI and iNeuron. X = NI is in the local scope of func() as NI. X = 'iNeuron' is in the global scope print(X) prints output as iNeuron"
   ]
  },
  {
   "cell_type": "markdown",
   "id": "407500bb",
   "metadata": {},
   "source": [
    "### 4. What output does this code produce? Why?\n"
   ]
  },
  {
   "cell_type": "code",
   "execution_count": 5,
   "id": "960c3e12",
   "metadata": {},
   "outputs": [
    {
     "name": "stdout",
     "output_type": "stream",
     "text": [
      "NI\n"
     ]
    }
   ],
   "source": [
    "X = 'iNeuron'\n",
    "def func():\n",
    "    global X\n",
    "    X = 'NI'\n",
    "func()\n",
    "print(X)"
   ]
  },
  {
   "cell_type": "markdown",
   "id": "fcb8279c",
   "metadata": {},
   "source": [
    "Result of the code is NI, Global keyword allows a variable to access in the current scope. As we are using global keyword inside the function it directly access the variable X in global scope and changes its value to NI."
   ]
  },
  {
   "cell_type": "markdown",
   "id": "7d85c3eb",
   "metadata": {},
   "source": [
    "### 5. What about this code—what’s the output, and why?"
   ]
  },
  {
   "cell_type": "code",
   "execution_count": 6,
   "id": "c5210728",
   "metadata": {},
   "outputs": [
    {
     "name": "stdout",
     "output_type": "stream",
     "text": [
      "NI\n"
     ]
    },
    {
     "data": {
      "text/plain": [
       "'iNeuron'"
      ]
     },
     "execution_count": 6,
     "metadata": {},
     "output_type": "execute_result"
    }
   ],
   "source": [
    "X = 'iNeuron'\n",
    "def func():\n",
    "    X = 'NI'\n",
    "    def nested():\n",
    "        print(X)\n",
    "    nested()\n",
    "func()\n",
    "X"
   ]
  },
  {
   "cell_type": "markdown",
   "id": "3aca2f8a",
   "metadata": {},
   "source": [
    "The output of the code is NI. the reason for this output is if a function wants to access a variable, if its not available in its localscope. it looks for the variable in its global scope. similarly here also function nested looks for variable X in its global scope. hence the output of the code is NI"
   ]
  },
  {
   "cell_type": "markdown",
   "id": "0496320a",
   "metadata": {},
   "source": [
    "### 6. How about this code: what is its output in Python 3, and explain?"
   ]
  },
  {
   "cell_type": "code",
   "execution_count": 7,
   "id": "3821387a",
   "metadata": {},
   "outputs": [
    {
     "name": "stdout",
     "output_type": "stream",
     "text": [
      "Spam\n"
     ]
    }
   ],
   "source": [
    "def func():\n",
    "    X = 'NI'\n",
    "    def nested():\n",
    "        nonlocal X\n",
    "        X = 'Spam'\n",
    "    nested()\n",
    "    print(X)\n",
    "func()"
   ]
  },
  {
   "cell_type": "markdown",
   "id": "13912f27",
   "metadata": {},
   "source": [
    "The output of the code is Spam, nonlocal keyword in python is used to declare a variable as not a local scope. So the statement X = \"Spam\" is modified in the global scope, the output of print(X) statement is Spam"
   ]
  },
  {
   "cell_type": "code",
   "execution_count": null,
   "id": "641a47a8",
   "metadata": {},
   "outputs": [],
   "source": []
  }
 ],
 "metadata": {
  "kernelspec": {
   "display_name": "Python 3 (ipykernel)",
   "language": "python",
   "name": "python3"
  },
  "language_info": {
   "codemirror_mode": {
    "name": "ipython",
    "version": 3
   },
   "file_extension": ".py",
   "mimetype": "text/x-python",
   "name": "python",
   "nbconvert_exporter": "python",
   "pygments_lexer": "ipython3",
   "version": "3.9.7"
  }
 },
 "nbformat": 4,
 "nbformat_minor": 5
}
