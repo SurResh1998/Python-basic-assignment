{
 "cells": [
  {
   "cell_type": "markdown",
   "id": "69901fda",
   "metadata": {},
   "source": [
    "### 1. What advantages do Excel spreadsheets have over CSV spreadsheets?"
   ]
  },
  {
   "cell_type": "markdown",
   "id": "9abf290c",
   "metadata": {},
   "source": [
    "Excel (XLS and XLSX) file formats are better for storing and analysing complex data.\n",
    "\n",
    "An Excel not only stores data but can also do operations on the data using macros, formulas etc\n",
    "\n",
    "CSV files are plain-text files, Does not contain formatting, formulas, macros, etc. It is also known as flat files"
   ]
  },
  {
   "cell_type": "markdown",
   "id": "c07d95e6",
   "metadata": {},
   "source": [
    "### 2.What do you pass to csv.reader() and csv.writer() to create reader and writer objects?"
   ]
  },
  {
   "cell_type": "markdown",
   "id": "b07ac356",
   "metadata": {},
   "source": [
    "import csv\n",
    "\n",
    "In csv.reader() we pass file and dialect.\n",
    "\n",
    "In csv.writer() we pass fileobj and dialect."
   ]
  },
  {
   "cell_type": "markdown",
   "id": "845247c1",
   "metadata": {},
   "source": [
    "### 3. What modes do File objects for reader and writer objects need to be opened in?"
   ]
  },
  {
   "cell_type": "markdown",
   "id": "94ffa93c",
   "metadata": {},
   "source": [
    "for reader object we open file in read mode 'r'\n",
    "\n",
    "for writer object we open file in write mode 'w'."
   ]
  },
  {
   "cell_type": "markdown",
   "id": "e84eac12",
   "metadata": {},
   "source": [
    "### 4. What method takes a list argument and writes it to a CSV file?"
   ]
  },
  {
   "cell_type": "markdown",
   "id": "8ffff529",
   "metadata": {},
   "source": [
    "csv.writer class provides two methods for writing to CSV. They are writerow(  ) and writerows(  ). writerow(  ) method writes a single row at a time. Whereas writerows(  ) method is used to write multiple rows at a time."
   ]
  },
  {
   "cell_type": "markdown",
   "id": "55e75061",
   "metadata": {},
   "source": [
    "### 5. What do the keyword arguments delimiter and line terminator do?"
   ]
  },
  {
   "cell_type": "markdown",
   "id": "04a314b5",
   "metadata": {},
   "source": [
    "firstname, lastname, age\n",
    "\n",
    "Suresh, S, 22\n",
    "\n",
    "Rishabh, pant , 25\n",
    "\n",
    "here ',' is delimiter we can use any character as per our needs.\n",
    "line terminator comes at end of line by default it is newline and can be changed accourding to requirement."
   ]
  },
  {
   "cell_type": "markdown",
   "id": "f3d8b5d1",
   "metadata": {},
   "source": [
    "### 6. What function takes a string of JSON data and returns a Python data structure?"
   ]
  },
  {
   "cell_type": "markdown",
   "id": "2049c01e",
   "metadata": {},
   "source": [
    "loads(  ) method takes a string of JSON data and returns a Python data structure"
   ]
  },
  {
   "cell_type": "markdown",
   "id": "c07dc9b3",
   "metadata": {},
   "source": [
    "### 7. What function takes a Python data structure and returns a string of JSON data?"
   ]
  },
  {
   "cell_type": "markdown",
   "id": "b21aefaa",
   "metadata": {},
   "source": [
    "dumps(  ) method takes a python data structure and returns a string of JSON data"
   ]
  },
  {
   "cell_type": "code",
   "execution_count": null,
   "id": "8513d5c9",
   "metadata": {},
   "outputs": [],
   "source": []
  }
 ],
 "metadata": {
  "kernelspec": {
   "display_name": "Python 3 (ipykernel)",
   "language": "python",
   "name": "python3"
  },
  "language_info": {
   "codemirror_mode": {
    "name": "ipython",
    "version": 3
   },
   "file_extension": ".py",
   "mimetype": "text/x-python",
   "name": "python",
   "nbconvert_exporter": "python",
   "pygments_lexer": "ipython3",
   "version": "3.9.7"
  }
 },
 "nbformat": 4,
 "nbformat_minor": 5
}
