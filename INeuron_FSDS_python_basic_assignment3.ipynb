{
 "cells": [
  {
   "cell_type": "markdown",
   "id": "79322021",
   "metadata": {},
   "source": [
    "### 1. Why are functions advantageous to have in your programs?"
   ]
  },
  {
   "cell_type": "markdown",
   "id": "ca530b6e",
   "metadata": {},
   "source": [
    "Functions are helpful for reusability, which makes to write less code."
   ]
  },
  {
   "cell_type": "markdown",
   "id": "9c8aeddd",
   "metadata": {},
   "source": [
    "### 2. When does the code in a function run: when it&#39;s specified or when it&#39;s called?"
   ]
  },
  {
   "cell_type": "markdown",
   "id": "8465059f",
   "metadata": {},
   "source": [
    "When a function is called, it starts to execute"
   ]
  },
  {
   "cell_type": "markdown",
   "id": "6e1536b9",
   "metadata": {},
   "source": [
    "### 3. What statement creates a function?"
   ]
  },
  {
   "cell_type": "markdown",
   "id": "153583ac",
   "metadata": {},
   "source": [
    "The def statement creates a function:"
   ]
  },
  {
   "cell_type": "code",
   "execution_count": 2,
   "id": "11f25e37",
   "metadata": {},
   "outputs": [],
   "source": [
    "def name(a):\n",
    "    return a"
   ]
  },
  {
   "cell_type": "markdown",
   "id": "df9b233c",
   "metadata": {},
   "source": [
    "### 4. What is the difference between a function and a function call?"
   ]
  },
  {
   "cell_type": "markdown",
   "id": "04641eb9",
   "metadata": {},
   "source": [
    "Function is a procedure to achieve the result, whereas function call is to achieve the task"
   ]
  },
  {
   "cell_type": "markdown",
   "id": "dabc4bb9",
   "metadata": {},
   "source": [
    "### 5. How many global scopes are there in a Python program? How many local scopes?"
   ]
  },
  {
   "cell_type": "markdown",
   "id": "f59da358",
   "metadata": {},
   "source": [
    "There's only one global Python scope per program execution. This scope remains until the program gets terminated.\n",
    "\n",
    "There can be many local scopes, the local scopes will be created when a function is called"
   ]
  },
  {
   "cell_type": "markdown",
   "id": "f6b6cb75",
   "metadata": {},
   "source": [
    "### 6. What happens to variables in a local scope when the function call returns?"
   ]
  },
  {
   "cell_type": "markdown",
   "id": "493906f1",
   "metadata": {},
   "source": [
    "The local scope remains until the function gets execute, after that the variable will also be forgotten"
   ]
  },
  {
   "cell_type": "markdown",
   "id": "371851be",
   "metadata": {},
   "source": [
    "### 7. What is the concept of a return value? Is it possible to have a return value in an expression?"
   ]
  },
  {
   "cell_type": "markdown",
   "id": "ae26fcce",
   "metadata": {},
   "source": [
    "In a function it used to return value when a function is called and it is possible to have in an expression"
   ]
  },
  {
   "cell_type": "markdown",
   "id": "142ce8c9",
   "metadata": {},
   "source": [
    "### 8. If a function does not have a return statement, what is the return value of a call to that function?"
   ]
  },
  {
   "cell_type": "markdown",
   "id": "85b67830",
   "metadata": {},
   "source": [
    "If there is no return statement, it's return value is None"
   ]
  },
  {
   "cell_type": "markdown",
   "id": "8b666382",
   "metadata": {},
   "source": [
    "### 9. How do you make a function variable refer to the global variable?"
   ]
  },
  {
   "cell_type": "markdown",
   "id": "d06b70fe",
   "metadata": {},
   "source": [
    "A global statement will force a variable in a function to refer to the global variable. If you want to refer to a global variable in a function, you can use the global keyword to declare which variables are global."
   ]
  },
  {
   "cell_type": "markdown",
   "id": "797665d7",
   "metadata": {},
   "source": [
    "### 10. What is the data type of None?"
   ]
  },
  {
   "cell_type": "markdown",
   "id": "c3f60d76",
   "metadata": {},
   "source": [
    "The data type of None is Nonetype"
   ]
  },
  {
   "cell_type": "markdown",
   "id": "8792acf4",
   "metadata": {},
   "source": [
    "### 11. What does the sentence import areallyourpetsnamederic do?"
   ]
  },
  {
   "cell_type": "markdown",
   "id": "69ea8efc",
   "metadata": {},
   "source": [
    "It will import areallyourpetnamederic module.\n",
    "\n"
   ]
  },
  {
   "cell_type": "markdown",
   "id": "5fdfd737",
   "metadata": {},
   "source": [
    "### 12. If you had a bacon() feature in a spam module, what would you call it after importing spam?"
   ]
  },
  {
   "cell_type": "markdown",
   "id": "8135a446",
   "metadata": {},
   "source": [
    "It will be called spam.bacon()"
   ]
  },
  {
   "cell_type": "markdown",
   "id": "f3ed18a1",
   "metadata": {},
   "source": [
    "### 13. What can you do to save a programme from crashing if it encounters an error?"
   ]
  },
  {
   "cell_type": "markdown",
   "id": "4db2d7ff",
   "metadata": {},
   "source": [
    "Will use try and expect handling to stop it from crashing and causing error"
   ]
  },
  {
   "cell_type": "markdown",
   "id": "e7e0991b",
   "metadata": {},
   "source": [
    "### 14. What is the purpose of the try clause? What is the purpose of the except clause?"
   ]
  },
  {
   "cell_type": "markdown",
   "id": "4d879a1a",
   "metadata": {},
   "source": [
    "The code you think that could potentially cause an error will be in try clause. The code that executes if an error happens will be in except clause."
   ]
  },
  {
   "cell_type": "code",
   "execution_count": null,
   "id": "2a2c48ea",
   "metadata": {},
   "outputs": [],
   "source": []
  }
 ],
 "metadata": {
  "kernelspec": {
   "display_name": "Python 3 (ipykernel)",
   "language": "python",
   "name": "python3"
  },
  "language_info": {
   "codemirror_mode": {
    "name": "ipython",
    "version": 3
   },
   "file_extension": ".py",
   "mimetype": "text/x-python",
   "name": "python",
   "nbconvert_exporter": "python",
   "pygments_lexer": "ipython3",
   "version": "3.9.7"
  }
 },
 "nbformat": 4,
 "nbformat_minor": 5
}
