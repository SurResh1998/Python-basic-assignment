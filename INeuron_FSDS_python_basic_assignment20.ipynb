{
 "cells": [
  {
   "cell_type": "markdown",
   "id": "d1b870b0",
   "metadata": {},
   "source": [
    "### 1. Set the variable test1 to the string &#39;This is a test of the emergency text system,&#39; and save test1 to a file named test.txt."
   ]
  },
  {
   "cell_type": "code",
   "execution_count": 2,
   "id": "12175efd",
   "metadata": {},
   "outputs": [
    {
     "name": "stdout",
     "output_type": "stream",
     "text": [
      "This is a test of the emergency text system,\n"
     ]
    }
   ],
   "source": [
    "test1 = 'This is a test of the emergency text system,'\n",
    "print(test1)\n",
    "with open('test,txt','w')as file:\n",
    "    file.write(test1)\n",
    "    file.close()"
   ]
  },
  {
   "cell_type": "markdown",
   "id": "0ea8e97d",
   "metadata": {},
   "source": [
    "### 2. Read the contents of the file test.txt into the variable test2. Is there a difference between test 1 and test 2?"
   ]
  },
  {
   "cell_type": "code",
   "execution_count": 6,
   "id": "2b887c01",
   "metadata": {},
   "outputs": [
    {
     "name": "stdout",
     "output_type": "stream",
     "text": [
      "\n",
      "False\n"
     ]
    }
   ],
   "source": [
    "with open('test,txt','r')as file:\n",
    "    test2 = file.read()\n",
    "print(test2)\n",
    "print(test1 == test2)\n",
    "    "
   ]
  },
  {
   "cell_type": "markdown",
   "id": "7639cd4a",
   "metadata": {},
   "source": [
    "### 3. Create a CSV file called books.csv by using these lines: title,author,year The Weirdstone of Brisingamen,Alan Garner,1960, Perdido Street Station,China Miéville,2000,Thud!,Terry Pratchett,2005, The Spellman Files,Lisa Lutz,2007, Small Gods,Terry Pratchett,1992"
   ]
  },
  {
   "cell_type": "code",
   "execution_count": 7,
   "id": "3704c262",
   "metadata": {},
   "outputs": [],
   "source": [
    "data = '''title,author,year\n",
    "The Weirdstone of Brisingamen,Alan Garner,1960\n",
    "Perdido Street Station,China Miéville,2000\n",
    "Thud!,Terry Pratchett,2005\n",
    "The Spellman Files,Lisa Lutz,2007\n",
    "Small Gods,Terry Pratchett,1992'''\n",
    "\n",
    "with open('book.csv','w')as file:\n",
    "    file.write(data)"
   ]
  },
  {
   "cell_type": "markdown",
   "id": "fae45118",
   "metadata": {},
   "source": [
    "### 4. Use the sqlite3 module to create a SQLite database called books.db, and a table called books with these fields: title (text), author (text), and year (integer)."
   ]
  },
  {
   "cell_type": "code",
   "execution_count": 8,
   "id": "f558d5c0",
   "metadata": {},
   "outputs": [],
   "source": [
    "import sqlite3\n",
    "db = sqlite3.connect('books.db')\n",
    "cursor = db.cursor()\n",
    "cursor.execute(\"CREATE TABLE books (title text, author text, year int)\")\n",
    "db.commit()\n",
    "db.close()"
   ]
  },
  {
   "cell_type": "markdown",
   "id": "ad4884a0",
   "metadata": {},
   "source": [
    "### 5. Read books.csv and insert its data into the book table."
   ]
  },
  {
   "cell_type": "code",
   "execution_count": 11,
   "id": "9d18a80e",
   "metadata": {},
   "outputs": [],
   "source": [
    "import sqlite3\n",
    "import csv\n",
    "conn = sqlite3.connect(\"books.db\")\n",
    "cursor = conn.cursor()\n",
    "with open(\"book.csv\",\"r\") as file:\n",
    "    books = csv.DictReader(file)\n",
    "    for book in books:\n",
    "        cursor.execute(\"INSERT INTO books VALUES (?,?,?)\",(book['title'],book['author'],book['year']))\n",
    "conn.commit()\n",
    "conn.close()"
   ]
  },
  {
   "cell_type": "markdown",
   "id": "9f7b90a9",
   "metadata": {},
   "source": [
    "### 6. Select and print the title column from the book table in alphabetical order."
   ]
  },
  {
   "cell_type": "code",
   "execution_count": 12,
   "id": "0c00c4fc",
   "metadata": {},
   "outputs": [
    {
     "name": "stdout",
     "output_type": "stream",
     "text": [
      "Perdido Street Station\n",
      "Small Gods\n",
      "The Spellman Files\n",
      "The Weirdstone of Brisingamen\n",
      "Thud!\n"
     ]
    }
   ],
   "source": [
    "import sqlite3\n",
    "conn = sqlite3.connect('books.db')\n",
    "cursor = conn.cursor()\n",
    "output = cursor.execute(\"SELECT title FROM books ORDER BY title ASC\")\n",
    "for i in output:\n",
    "    print(i[0])\n",
    "conn.commit()\n",
    "conn.close()"
   ]
  },
  {
   "cell_type": "markdown",
   "id": "8727c35a",
   "metadata": {},
   "source": [
    "### 7. From the book table, select and print all columns in the order of publication."
   ]
  },
  {
   "cell_type": "code",
   "execution_count": 13,
   "id": "da438291",
   "metadata": {},
   "outputs": [
    {
     "name": "stdout",
     "output_type": "stream",
     "text": [
      "('The Weirdstone of Brisingamen', 'Alan Garner', 1960)\n",
      "('Small Gods', 'Terry Pratchett', 1992)\n",
      "('Perdido Street Station', 'China Miéville', 2000)\n",
      "('Thud!', 'Terry Pratchett', 2005)\n",
      "('The Spellman Files', 'Lisa Lutz', 2007)\n"
     ]
    }
   ],
   "source": [
    "import sqlite3\n",
    "conn = sqlite3.connect('books.db')\n",
    "cursor = conn.cursor()\n",
    "ouput = cursor.execute(\"SELECT * FROM books ORDER BY year\")\n",
    "for i in ouput:\n",
    "    print(i)"
   ]
  },
  {
   "cell_type": "markdown",
   "id": "1ac0d89a",
   "metadata": {},
   "source": [
    "### 8. Use the sqlalchemy module to connect to the sqlite3 database books.db that you just made in exercise 6."
   ]
  },
  {
   "cell_type": "code",
   "execution_count": 14,
   "id": "09f4e528",
   "metadata": {},
   "outputs": [
    {
     "data": {
      "text/plain": [
       "Engine(sqlite:///books.db)"
      ]
     },
     "execution_count": 14,
     "metadata": {},
     "output_type": "execute_result"
    }
   ],
   "source": [
    "import sqlalchemy\n",
    "conn = sqlalchemy.create_engine('sqlite:///books.db')\n",
    "conn"
   ]
  },
  {
   "cell_type": "markdown",
   "id": "8643fa88",
   "metadata": {},
   "source": [
    "### 9. Install the Redis server and the Python redis library (pip install redis) on your computer. Create a Redis hash called test with the fields count (1) and name (&#39;Fester Bestertester&#39;). Print all the fields for test."
   ]
  },
  {
   "cell_type": "code",
   "execution_count": 15,
   "id": "1624085c",
   "metadata": {},
   "outputs": [
    {
     "name": "stdout",
     "output_type": "stream",
     "text": [
      "Collecting redis\n",
      "  Downloading redis-4.2.0-py3-none-any.whl (225 kB)\n",
      "\u001b[K     |████████████████████████████████| 225 kB 1.2 MB/s eta 0:00:01\n",
      "\u001b[?25hCollecting deprecated>=1.2.3\n",
      "  Downloading Deprecated-1.2.13-py2.py3-none-any.whl (9.6 kB)\n",
      "Requirement already satisfied: packaging>=20.4 in /opt/anaconda3/lib/python3.9/site-packages (from redis) (21.0)\n",
      "Collecting async-timeout>=4.0.2\n",
      "  Downloading async_timeout-4.0.2-py3-none-any.whl (5.8 kB)\n",
      "Requirement already satisfied: typing-extensions in /opt/anaconda3/lib/python3.9/site-packages (from redis) (3.10.0.2)\n",
      "Requirement already satisfied: wrapt<2,>=1.10 in /opt/anaconda3/lib/python3.9/site-packages (from deprecated>=1.2.3->redis) (1.12.1)\n",
      "Requirement already satisfied: pyparsing>=2.0.2 in /opt/anaconda3/lib/python3.9/site-packages (from packaging>=20.4->redis) (3.0.4)\n",
      "Installing collected packages: deprecated, async-timeout, redis\n",
      "Successfully installed async-timeout-4.0.2 deprecated-1.2.13 redis-4.2.0\n"
     ]
    }
   ],
   "source": [
    "! python -m pip install redis"
   ]
  },
  {
   "cell_type": "code",
   "execution_count": null,
   "id": "edf111b2",
   "metadata": {},
   "outputs": [],
   "source": [
    "import redis\n",
    "conn = redis.Redis()\n",
    "conn.hset('test',{\n",
    "    'count':1,\n",
    "    'name':'Fester Bestertester'\n",
    "})\n",
    "conn.hgetall('test')"
   ]
  },
  {
   "cell_type": "markdown",
   "id": "979bf4a4",
   "metadata": {},
   "source": [
    "### 10. Increment the count field of test and print it."
   ]
  },
  {
   "cell_type": "code",
   "execution_count": null,
   "id": "eaabda65",
   "metadata": {},
   "outputs": [],
   "source": [
    "conn.hincrby('test', 'count', 1)\n",
    "conn.hget('test', 'count')"
   ]
  }
 ],
 "metadata": {
  "kernelspec": {
   "display_name": "Python 3 (ipykernel)",
   "language": "python",
   "name": "python3"
  },
  "language_info": {
   "codemirror_mode": {
    "name": "ipython",
    "version": 3
   },
   "file_extension": ".py",
   "mimetype": "text/x-python",
   "name": "python",
   "nbconvert_exporter": "python",
   "pygments_lexer": "ipython3",
   "version": "3.9.7"
  }
 },
 "nbformat": 4,
 "nbformat_minor": 5
}
