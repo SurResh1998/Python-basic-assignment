{
 "cells": [
  {
   "cell_type": "markdown",
   "id": "916aa683",
   "metadata": {},
   "source": [
    "### 1. Is the Python Standard Library included with PyInputPlus?"
   ]
  },
  {
   "cell_type": "markdown",
   "id": "da983aaa",
   "metadata": {},
   "source": [
    "No it is not part of standard python library, it needs to be installed using !pip install PyInputPlus"
   ]
  },
  {
   "cell_type": "markdown",
   "id": "79473619",
   "metadata": {},
   "source": [
    "### 2. Why is PyInputPlus commonly imported with import pyinputplus as pypi?"
   ]
  },
  {
   "cell_type": "markdown",
   "id": "0a0af6f8",
   "metadata": {},
   "source": [
    "Pypi is a alias, which helps us to call the modular function"
   ]
  },
  {
   "cell_type": "markdown",
   "id": "f7361f3e",
   "metadata": {},
   "source": [
    "### 3. How do you distinguish between inputInt( ) and inputFloat( )?"
   ]
  },
  {
   "cell_type": "markdown",
   "id": "4d9575be",
   "metadata": {},
   "source": [
    "input(int()) is for number without decimals\n",
    "\n",
    "Whereas,\n",
    "\n",
    "input(float()) is for number with decimals"
   ]
  },
  {
   "cell_type": "markdown",
   "id": "b5ce0b79",
   "metadata": {},
   "source": [
    "### 4. Using PyInputPlus, how do you ensure that the user enters a whole number between 0 and 99?"
   ]
  },
  {
   "cell_type": "markdown",
   "id": "9085fcd5",
   "metadata": {},
   "source": [
    "PyInputPlus module provides a function called as inputInt() which only returns only integer values, To restrict the input between 0 and 99 from user we should use parameters like min & max to ensure that user enter the values "
   ]
  },
  {
   "cell_type": "markdown",
   "id": "1169dc36",
   "metadata": {},
   "source": [
    "### 5. What is transferred to the keyword arguments allowRegexes and blockRegexes?"
   ]
  },
  {
   "cell_type": "markdown",
   "id": "838dae7c",
   "metadata": {},
   "source": [
    "we can use allowRegexes and blockRegexes keyword arguments to take list of regular expression strings to determine what the pyinputplus function will reject or accept valid input."
   ]
  },
  {
   "cell_type": "markdown",
   "id": "267d469c",
   "metadata": {},
   "source": [
    "### 6. If a blank input is entered three times, what does inputStr(limit=3) do?"
   ]
  },
  {
   "cell_type": "markdown",
   "id": "9389e20a",
   "metadata": {},
   "source": [
    "it will give this error:  pyinputplus.RetryLimitException"
   ]
  },
  {
   "cell_type": "markdown",
   "id": "ea13f4e5",
   "metadata": {},
   "source": [
    "### 7. If blank input is entered three times, what does inputStr(limit=3, default=&#39;hello&#39;) do?"
   ]
  },
  {
   "cell_type": "markdown",
   "id": "43c432bc",
   "metadata": {},
   "source": [
    "Since the default parameter is set to hello. after blank input is entered three times instead of raising RetryLimitException exception. the function will return hello as response to the calling function"
   ]
  },
  {
   "cell_type": "code",
   "execution_count": null,
   "id": "07579d10",
   "metadata": {},
   "outputs": [],
   "source": []
  }
 ],
 "metadata": {
  "kernelspec": {
   "display_name": "Python 3 (ipykernel)",
   "language": "python",
   "name": "python3"
  },
  "language_info": {
   "codemirror_mode": {
    "name": "ipython",
    "version": 3
   },
   "file_extension": ".py",
   "mimetype": "text/x-python",
   "name": "python",
   "nbconvert_exporter": "python",
   "pygments_lexer": "ipython3",
   "version": "3.9.7"
  }
 },
 "nbformat": 4,
 "nbformat_minor": 5
}
