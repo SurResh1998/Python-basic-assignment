{
 "cells": [
  {
   "cell_type": "markdown",
   "id": "a63db263",
   "metadata": {},
   "source": [
    "### 1.What are the two values of the Boolean data type? How do you write them?"
   ]
  },
  {
   "cell_type": "raw",
   "id": "1f7f8633",
   "metadata": {},
   "source": [
    "Ans : True and False are the boolean data type, Both \" T(True) and F(False)\"should be written in capital "
   ]
  },
  {
   "cell_type": "markdown",
   "id": "ea177ff9",
   "metadata": {},
   "source": [
    "### 2. What are the three different types of Boolean operators?"
   ]
  },
  {
   "cell_type": "markdown",
   "id": "dae9bad7",
   "metadata": {},
   "source": [
    "The three types of boolean operators \"and\",\"or\",\"not"
   ]
  },
  {
   "cell_type": "markdown",
   "id": "fabf0c76",
   "metadata": {},
   "source": [
    "### 3. Make a list of each Boolean operator&#39;s truth tables (i.e. every possible combination of Boolean values for the operator and what it evaluate )."
   ]
  },
  {
   "cell_type": "code",
   "execution_count": null,
   "id": "a528d618",
   "metadata": {},
   "outputs": [],
   "source": [
    "Truth table for And operator:\n",
    "True and True = True(1)\n",
    "True and False = False(0)\n",
    "False and True = False(0)\n",
    "False and False = False(0)\n",
    "\n",
    "Truth table for OR operator:\n",
    "True or True = True(1)\n",
    "False or True = True(1)\n",
    "True or False = True(1)\n",
    "False or False = False(0)\n"
   ]
  },
  {
   "cell_type": "markdown",
   "id": "63563da0",
   "metadata": {},
   "source": [
    "### 4. What are the values of the following expressions?\n"
   ]
  },
  {
   "cell_type": "code",
   "execution_count": 3,
   "id": "e3dcde5a",
   "metadata": {},
   "outputs": [],
   "source": [
    "#)(5 > 4) and (3 == 5)\n",
    "#)not (5 > 4)\n",
    "#)(5 > 4) or (3 == 5)\n",
    "#)not ((5 > 4) or (3 == 5))\n",
    "#)(True and True) and (True == False)\n",
    "#)(not False) or (not True)"
   ]
  },
  {
   "cell_type": "code",
   "execution_count": 13,
   "id": "b52a0340",
   "metadata": {},
   "outputs": [
    {
     "name": "stdout",
     "output_type": "stream",
     "text": [
      "(5 > 4) and (3 == 5) - False\n",
      "not (5 > 4) -  False\n",
      "(5 > 4) or (3 == 5) - True\n",
      "not ((5 > 4) or (3 == 5)) - False\n",
      "(True and True) and (True == False) - False\n",
      "(not False) or (not True) - True\n"
     ]
    }
   ],
   "source": [
    "#)Ans:\n",
    "print(\"(5 > 4) and (3 == 5) -\",(5 > 4) and (3 == 5))\n",
    "print(\"not (5 > 4) - \",not (5 > 4))\n",
    "print(\"(5 > 4) or (3 == 5) -\",(5 > 4) or (3 == 5))\n",
    "print(\"not ((5 > 4) or (3 == 5)) -\",not ((5 > 4) or (3 == 5)))\n",
    "print(\"(True and True) and (True == False) -\",(True and True) and (True == False))\n",
    "print(\"(not False) or (not True) -\",(not False) or (not True))"
   ]
  },
  {
   "cell_type": "markdown",
   "id": "b13b854a",
   "metadata": {},
   "source": [
    "### 5. What are the six comparison operators?"
   ]
  },
  {
   "cell_type": "markdown",
   "id": "8ff3752b",
   "metadata": {},
   "source": [
    "#### The six comparison operators are, "
   ]
  },
  {
   "cell_type": "markdown",
   "id": "b787dbdc",
   "metadata": {},
   "source": [
    "#### \"<\",\">\",\"==\",\"!=\",\"=<\",\"=>\""
   ]
  },
  {
   "cell_type": "markdown",
   "id": "ab7b1f26",
   "metadata": {},
   "source": [
    "### 6. How do you tell the difference between the equal to and assignment operators?Describe a condition and when you would use one."
   ]
  },
  {
   "cell_type": "code",
   "execution_count": null,
   "id": "900bfba8",
   "metadata": {},
   "outputs": [],
   "source": [
    "Single = is  a assignement operator\n",
    "Double == it compares two values and evaluates to a Boolean"
   ]
  },
  {
   "cell_type": "code",
   "execution_count": 15,
   "id": "e00adf6e",
   "metadata": {},
   "outputs": [
    {
     "name": "stdout",
     "output_type": "stream",
     "text": [
      "True\n"
     ]
    }
   ],
   "source": [
    "eq = 5\n",
    "if eq == 5:\n",
    "    print(\"True\")"
   ]
  },
  {
   "cell_type": "markdown",
   "id": "33289407",
   "metadata": {},
   "source": [
    "### 7. Identify the three blocks in this code:"
   ]
  },
  {
   "cell_type": "code",
   "execution_count": 21,
   "id": "11621ecc",
   "metadata": {},
   "outputs": [
    {
     "name": "stdout",
     "output_type": "stream",
     "text": [
      "spam\n"
     ]
    }
   ],
   "source": [
    "spam = 0\n",
    "if spam == 10:\n",
    "    print('eggs')   \n",
    "    if spam > 5:\n",
    "        print('bacon')  \n",
    "    else:\n",
    "        print('ham')   \n",
    "    print('spam')\n",
    "print('spam')"
   ]
  },
  {
   "cell_type": "markdown",
   "id": "d88d5c04",
   "metadata": {},
   "source": [
    "### 8. Write code that prints Hello if 1 is stored in spam, prints Howdy if 2 is stored in spam, and prints Greetings! if anything else is stored in spam."
   ]
  },
  {
   "cell_type": "code",
   "execution_count": 28,
   "id": "e6e34757",
   "metadata": {},
   "outputs": [
    {
     "name": "stdout",
     "output_type": "stream",
     "text": [
      "Hello\n",
      "Howdy\n",
      "Greetings!\n"
     ]
    }
   ],
   "source": [
    "def Spam(spam):\n",
    "    if spam == 1:\n",
    "        print('Hello')\n",
    "    elif spam == 2:\n",
    "        print(\"Howdy\")\n",
    "    else:\n",
    "        print(\"Greetings!\")\n",
    "        \n",
    "        \n",
    "Spam(1)\n",
    "Spam(2)\n",
    "Spam(3)"
   ]
  },
  {
   "cell_type": "markdown",
   "id": "1411529e",
   "metadata": {},
   "source": [
    "### 9.If your programme is stuck in an endless loop, what keys you’ll press?"
   ]
  },
  {
   "cell_type": "markdown",
   "id": "d683563f",
   "metadata": {},
   "source": [
    "Press control + c to break the loop"
   ]
  },
  {
   "cell_type": "markdown",
   "id": "1815f725",
   "metadata": {},
   "source": [
    "### 10. How can you tell the difference between break and continue?"
   ]
  },
  {
   "cell_type": "code",
   "execution_count": 30,
   "id": "b52120fc",
   "metadata": {},
   "outputs": [
    {
     "name": "stdout",
     "output_type": "stream",
     "text": [
      "0\n",
      "1\n",
      "2\n",
      "3\n",
      "4\n"
     ]
    }
   ],
   "source": [
    "for i in range(10):\n",
    "    if i == 5:\n",
    "        break\n",
    "    print(i)"
   ]
  },
  {
   "cell_type": "code",
   "execution_count": 31,
   "id": "09ee0eec",
   "metadata": {},
   "outputs": [
    {
     "name": "stdout",
     "output_type": "stream",
     "text": [
      "0\n",
      "1\n",
      "2\n",
      "3\n",
      "4\n",
      "6\n",
      "7\n",
      "8\n",
      "9\n"
     ]
    }
   ],
   "source": [
    "for i in range(10):\n",
    "    if i == 5:\n",
    "        continue   #)it won't follow the conditions we have given, it just keeps on continue\n",
    "    print(i)"
   ]
  },
  {
   "cell_type": "markdown",
   "id": "2003a989",
   "metadata": {},
   "source": [
    "### 11. In a for loop, what is the difference between range(10), range(0, 10), and range(0, 10, 1)?"
   ]
  },
  {
   "cell_type": "markdown",
   "id": "3d822202",
   "metadata": {},
   "source": [
    "1)*range(10)* - calls from 0 - 9 and won't count 10\n",
    "\n",
    "2)*range(0,10)* - it tells the loop to start from 0\n",
    "\n",
    "3)range(0,10,1) - it tells the loop to increase by 1\n"
   ]
  },
  {
   "cell_type": "markdown",
   "id": "dcbe567e",
   "metadata": {},
   "source": [
    "### 12. Write a short program that prints the numbers 1 to 10 using a for loop. Then write an equivalent program that prints the numbers 1 to 10 using a while loop."
   ]
  },
  {
   "cell_type": "code",
   "execution_count": 36,
   "id": "984923e3",
   "metadata": {},
   "outputs": [
    {
     "name": "stdout",
     "output_type": "stream",
     "text": [
      "1 2 3 4 5 6 7 8 9 10 "
     ]
    }
   ],
   "source": [
    "#)for loop:\n",
    "for i in range(1,11,1):\n",
    "    print(i,end=\" \")"
   ]
  },
  {
   "cell_type": "code",
   "execution_count": 4,
   "id": "52007d09",
   "metadata": {},
   "outputs": [
    {
     "name": "stdout",
     "output_type": "stream",
     "text": [
      "1 2 3 4 5 6 7 8 9 10 "
     ]
    }
   ],
   "source": [
    "#)while loop:\n",
    "i = 1\n",
    "while i <= 10:\n",
    "    print(i,end=\" \")\n",
    "    i+=1"
   ]
  },
  {
   "cell_type": "markdown",
   "id": "aee938e9",
   "metadata": {},
   "source": [
    "### 13. If you had a function named bacon() inside a module named spam, how would you call it after importing spam?"
   ]
  },
  {
   "cell_type": "markdown",
   "id": "39bf1c1c",
   "metadata": {},
   "source": [
    "It could be called using spam.bacon()"
   ]
  },
  {
   "cell_type": "code",
   "execution_count": null,
   "id": "e6305c2c",
   "metadata": {},
   "outputs": [],
   "source": []
  }
 ],
 "metadata": {
  "kernelspec": {
   "display_name": "Python 3 (ipykernel)",
   "language": "python",
   "name": "python3"
  },
  "language_info": {
   "codemirror_mode": {
    "name": "ipython",
    "version": 3
   },
   "file_extension": ".py",
   "mimetype": "text/x-python",
   "name": "python",
   "nbconvert_exporter": "python",
   "pygments_lexer": "ipython3",
   "version": "3.9.7"
  }
 },
 "nbformat": 4,
 "nbformat_minor": 5
}
