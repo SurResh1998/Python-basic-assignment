{
 "cells": [
  {
   "cell_type": "markdown",
   "id": "03dbfff4",
   "metadata": {},
   "source": [
    "### 1. Make a class called Thing with no contents and print it. Then, create an object called example from this class and also print it. Are the printed values the same or different?"
   ]
  },
  {
   "cell_type": "code",
   "execution_count": 3,
   "id": "3df8a3ab",
   "metadata": {},
   "outputs": [],
   "source": [
    "class Thing:\n",
    "    pass\n",
    "class example:\n",
    "    pass"
   ]
  },
  {
   "cell_type": "code",
   "execution_count": 2,
   "id": "3f53455c",
   "metadata": {},
   "outputs": [
    {
     "name": "stdout",
     "output_type": "stream",
     "text": [
      "<class '__main__.Thing'>\n"
     ]
    }
   ],
   "source": [
    "print(Thing)"
   ]
  },
  {
   "cell_type": "code",
   "execution_count": 5,
   "id": "c6864580",
   "metadata": {},
   "outputs": [
    {
     "name": "stdout",
     "output_type": "stream",
     "text": [
      "<class '__main__.example'>\n"
     ]
    }
   ],
   "source": [
    "print(example)"
   ]
  },
  {
   "cell_type": "markdown",
   "id": "7e866b90",
   "metadata": {},
   "source": [
    "### 2. Create a new class called Thing2 and add the value &#39;abc&#39; to the letters class attribute. Letters should be printed."
   ]
  },
  {
   "cell_type": "code",
   "execution_count": 7,
   "id": "d3066269",
   "metadata": {},
   "outputs": [],
   "source": [
    "class Thing2:\n",
    "    letters = \"abc\"\n",
    "    "
   ]
  },
  {
   "cell_type": "code",
   "execution_count": 9,
   "id": "71ad3ee5",
   "metadata": {},
   "outputs": [
    {
     "name": "stdout",
     "output_type": "stream",
     "text": [
      "abc\n"
     ]
    }
   ],
   "source": [
    "print(Thing2.letters)"
   ]
  },
  {
   "cell_type": "markdown",
   "id": "6615c3f0",
   "metadata": {},
   "source": [
    "### 3. Make yet another class called, of course, Thing3. This time, assign the value &#39;xyz&#39; to an instance (object) attribute called letters. Print letters. Do you need to make an object from the class to do this?"
   ]
  },
  {
   "cell_type": "code",
   "execution_count": 18,
   "id": "3dd83ab1",
   "metadata": {},
   "outputs": [],
   "source": [
    "class Thing3:\n",
    "    def __init__(self):\n",
    "        self.letters = \"xyz\""
   ]
  },
  {
   "cell_type": "code",
   "execution_count": 19,
   "id": "690feea9",
   "metadata": {},
   "outputs": [
    {
     "name": "stdout",
     "output_type": "stream",
     "text": [
      "xyz\n"
     ]
    }
   ],
   "source": [
    "try:\n",
    "    print(Thing3.letters)\n",
    "except:\n",
    "    my_thing = Thing3()\n",
    "    print(my_thing.letters)"
   ]
  },
  {
   "cell_type": "markdown",
   "id": "245873b6",
   "metadata": {},
   "source": [
    "### 4. Create an Element class with the instance attributes name, symbol, and number. Create a class object with the values &#39;Hydrogen,&#39; &#39;H,&#39; and 1."
   ]
  },
  {
   "cell_type": "code",
   "execution_count": 36,
   "id": "dcc8e23d",
   "metadata": {},
   "outputs": [],
   "source": [
    "class Element:\n",
    "    def __init__ (self,name, symbol,number):\n",
    "        self.name = name\n",
    "        self.symbol = symbol\n",
    "        self.number = number\n",
    "        print(\"Name : {} | Symbol : {} | Number : {}\".format(self.name,self.symbol,self.number))"
   ]
  },
  {
   "cell_type": "code",
   "execution_count": 37,
   "id": "7dd4ad72",
   "metadata": {},
   "outputs": [
    {
     "name": "stdout",
     "output_type": "stream",
     "text": [
      "Name : Hydrogen | Symbol : H | Number : 1\n"
     ]
    }
   ],
   "source": [
    "a = Element('Hydrogen','H',1)"
   ]
  },
  {
   "cell_type": "markdown",
   "id": "87591aa1",
   "metadata": {},
   "source": [
    "### 5. Make a dictionary with these keys and values: &#39;name&#39;: &#39;Hydrogen&#39;, &#39;symbol&#39;: &#39;H&#39;, &#39;number&#39;: 1. Then, create an object called hydrogen from class Element using this dictionary."
   ]
  },
  {
   "cell_type": "code",
   "execution_count": 42,
   "id": "c9be7308",
   "metadata": {},
   "outputs": [
    {
     "name": "stdout",
     "output_type": "stream",
     "text": [
      "{'name': 'Hydrogen', 'symbol': 'H', 'number': 1}\n",
      "Name : Hydrogen | Symbol : H | Number : 1\n",
      "Hydrogen\tH\t1\n"
     ]
    }
   ],
   "source": [
    "make_dict = {'name': 'Hydrogen', 'symbol': 'H', 'number': 1}\n",
    "print(make_dict)\n",
    "\n",
    "hydrogen = Element(**make_dict)\n",
    "print(hydrogen.name,hydrogen.symbol,hydrogen.number, sep='\\t')"
   ]
  },
  {
   "cell_type": "markdown",
   "id": "673bd8f9",
   "metadata": {},
   "source": [
    "### 6. For the Element class, define a method called dump() that prints the values of the object’s attributes (name, symbol, and number). Create the hydrogen object from this new definition and use dump() to print its attributes."
   ]
  },
  {
   "cell_type": "code",
   "execution_count": 65,
   "id": "41e72a95",
   "metadata": {},
   "outputs": [],
   "source": [
    "class Element:\n",
    "    def __init__ (self,name, symbol,number):\n",
    "        self.name = name\n",
    "        self.symbol = symbol\n",
    "        self.number = number\n",
    "        \n",
    "    def dump(self):\n",
    "        print(self.name,\"|\",self.symbol,\"|\",self.number)\n"
   ]
  },
  {
   "cell_type": "code",
   "execution_count": 66,
   "id": "61610793",
   "metadata": {},
   "outputs": [
    {
     "name": "stdout",
     "output_type": "stream",
     "text": [
      "Hydrogen | H | 1\n"
     ]
    }
   ],
   "source": [
    "hydrogen = Element('Hydrogen','H',1)\n",
    "hydrogen.dump()"
   ]
  },
  {
   "cell_type": "markdown",
   "id": "35b50ce4",
   "metadata": {},
   "source": [
    "### 7. Call print(hydrogen). In the definition of Element, change the name of method dump to __str__, create a new hydrogen object, and call print(hydrogen) again."
   ]
  },
  {
   "cell_type": "code",
   "execution_count": 76,
   "id": "66961acd",
   "metadata": {},
   "outputs": [],
   "source": [
    "class Element:\n",
    "    def __init__ (self,name, symbol,number):\n",
    "        self.name = name\n",
    "        self.symbol = symbol\n",
    "        self.number = number\n",
    "        \n",
    "    def __str__(self):\n",
    "        return \"Name : {} | Symbol : {} | Number : {}\".format(self.name,self.symbol,self.number)"
   ]
  },
  {
   "cell_type": "code",
   "execution_count": 77,
   "id": "25a3e3e4",
   "metadata": {},
   "outputs": [
    {
     "name": "stdout",
     "output_type": "stream",
     "text": [
      "Name : Hydrogen | Symbol : H | Number : 1\n"
     ]
    }
   ],
   "source": [
    "hydrogen = Element('Hydrogen','H',1)\n",
    "print(hydrogen)"
   ]
  },
  {
   "cell_type": "markdown",
   "id": "b7f9975e",
   "metadata": {},
   "source": [
    "### 8. Modify Element to make the attributes name, symbol, and number private. Define a getter property for each to return its value."
   ]
  },
  {
   "cell_type": "code",
   "execution_count": 78,
   "id": "048bd63c",
   "metadata": {},
   "outputs": [],
   "source": [
    "class Element:\n",
    "    def __init__ (self,name, symbol,number):\n",
    "        self.name = name\n",
    "        self.symbol = symbol\n",
    "        self.number = number\n",
    "        \n",
    "    def name(self):\n",
    "        return self.__name\n",
    "    def symbol(self):\n",
    "        return self.__symbol\n",
    "    def number(self):\n",
    "        return self.__number"
   ]
  },
  {
   "cell_type": "code",
   "execution_count": 80,
   "id": "26922e6e",
   "metadata": {},
   "outputs": [
    {
     "name": "stdout",
     "output_type": "stream",
     "text": [
      "Hydrogen H 1\n"
     ]
    }
   ],
   "source": [
    "hydrogen = Element('Hydrogen','H',1)\n",
    "print(hydrogen.name,hydrogen.symbol,hydrogen.number)"
   ]
  },
  {
   "cell_type": "markdown",
   "id": "cd91d62b",
   "metadata": {},
   "source": [
    "### 9. Define three classes: Bear, Rabbit, and Octothorpe. For each, define only one method: eats(). This should return &#39;berries&#39; (Bear), &#39;clover&#39; (Rabbit), or &#39;campers&#39; (Octothorpe). Create one object from each and print what it eats."
   ]
  },
  {
   "cell_type": "code",
   "execution_count": 81,
   "id": "0a0f290c",
   "metadata": {},
   "outputs": [],
   "source": [
    "class Bear:\n",
    "    def eats(self):\n",
    "        return 'berries'\n",
    "    \n",
    "class Rabbit:\n",
    "    def eats(self):\n",
    "        return 'clover'\n",
    "    \n",
    "class Octothorpe:\n",
    "     def eats(self):\n",
    "        return 'campers'  "
   ]
  },
  {
   "cell_type": "code",
   "execution_count": 85,
   "id": "55f8bf89",
   "metadata": {},
   "outputs": [],
   "source": [
    "b = Bear()\n",
    "c = Rabbit()\n",
    "d = Octothorpe()"
   ]
  },
  {
   "cell_type": "code",
   "execution_count": 86,
   "id": "f27a396a",
   "metadata": {},
   "outputs": [
    {
     "name": "stdout",
     "output_type": "stream",
     "text": [
      "berries\n",
      "clover\n",
      "campers\n"
     ]
    }
   ],
   "source": [
    "print(b.eats())\n",
    "print(c.eats())\n",
    "print(d.eats())"
   ]
  },
  {
   "cell_type": "markdown",
   "id": "69538c5a",
   "metadata": {},
   "source": [
    "### 10. Define these classes: Laser, Claw, and SmartPhone. Each has only one method: does(). This returns &#39;disintegrate&#39; (Laser), &#39;crush&#39; (Claw), or &#39;ring&#39; (SmartPhone). Then, define the class Robot that has one instance (object) of each of these. Define a does() method for the Robot that prints what its component objects do."
   ]
  },
  {
   "cell_type": "code",
   "execution_count": 131,
   "id": "eedbf45d",
   "metadata": {},
   "outputs": [],
   "source": [
    "class Laser:\n",
    "    def does(self):\n",
    "        return \"disintegrate\"\n",
    "    \n",
    "class Claw:\n",
    "    def does(self):\n",
    "        return \"crush\"\n",
    "\n",
    "class Smartphone:\n",
    "    def does(self):\n",
    "        return 'ring'\n",
    "\n",
    "class Robot:\n",
    "    def __init__(self,Laser,Claw,Smartphone):\n",
    "        self.Laser = Laser\n",
    "        self.Claw = Claw\n",
    "        self.Smartphone = Smartphone\n",
    "        \n",
    "    def does(self):\n",
    "        print(\"Laser :\",self.Laser.does()+\"|\"+ \"Claw :\",self.Claw.does()+\"|\"+ \"Smartphone :\",self.Smartphone.does())\n",
    "    "
   ]
  },
  {
   "cell_type": "code",
   "execution_count": 132,
   "id": "abda7ba2",
   "metadata": {},
   "outputs": [],
   "source": [
    "l = Laser()\n",
    "c = Claw()\n",
    "s = Smartphone()\n",
    "robot = Robot(l,c,s)"
   ]
  },
  {
   "cell_type": "code",
   "execution_count": 133,
   "id": "8f208624",
   "metadata": {},
   "outputs": [
    {
     "name": "stdout",
     "output_type": "stream",
     "text": [
      "Laser : disintegrate|Claw : crush|Smartphone : ring\n"
     ]
    }
   ],
   "source": [
    "robot.does()"
   ]
  },
  {
   "cell_type": "code",
   "execution_count": null,
   "id": "d9f11bd3",
   "metadata": {},
   "outputs": [],
   "source": []
  }
 ],
 "metadata": {
  "kernelspec": {
   "display_name": "Python 3 (ipykernel)",
   "language": "python",
   "name": "python3"
  },
  "language_info": {
   "codemirror_mode": {
    "name": "ipython",
    "version": 3
   },
   "file_extension": ".py",
   "mimetype": "text/x-python",
   "name": "python",
   "nbconvert_exporter": "python",
   "pygments_lexer": "ipython3",
   "version": "3.9.7"
  }
 },
 "nbformat": 4,
 "nbformat_minor": 5
}
