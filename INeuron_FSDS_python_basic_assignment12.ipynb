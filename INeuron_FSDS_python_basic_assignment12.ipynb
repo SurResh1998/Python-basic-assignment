{
 "cells": [
  {
   "cell_type": "markdown",
   "id": "5a106e77",
   "metadata": {},
   "source": [
    "### 1. In what modes should the PdfFileReader() and PdfFileWriter() File objects will be opened?"
   ]
  },
  {
   "cell_type": "markdown",
   "id": "0bff859b",
   "metadata": {},
   "source": [
    "For PdfFileReader( ) file objects should be opened in rb - read binary mode,  \n",
    "\n",
    "Whereas for PdfFileWriter( ) file objects should be opened in wb - write binary mode. "
   ]
  },
  {
   "cell_type": "markdown",
   "id": "a2c2dcc2",
   "metadata": {},
   "source": [
    "### 2. From a PdfFileReader object, how do you get a Page object for page 5?"
   ]
  },
  {
   "cell_type": "markdown",
   "id": "7925e9a5",
   "metadata": {},
   "source": [
    "PdfFileReader class provides a method called getPage(page_no) to get a page object."
   ]
  },
  {
   "cell_type": "markdown",
   "id": "4f8b1546",
   "metadata": {},
   "source": [
    "### 3. What PdfFileReader variable stores the number of pages in the PDF document?"
   ]
  },
  {
   "cell_type": "markdown",
   "id": "cc29f49c",
   "metadata": {},
   "source": [
    "getNumPages( ) method of PdfFileReader class stores the number of pages in a PDF document"
   ]
  },
  {
   "cell_type": "markdown",
   "id": "070ec38e",
   "metadata": {},
   "source": [
    "### 4. If a PdfFileReader object’s PDF is encrypted with the password swordfish, what must you do before you can obtain Page objects from it?"
   ]
  },
  {
   "cell_type": "code",
   "execution_count": null,
   "id": "ef81bd78",
   "metadata": {},
   "outputs": [],
   "source": [
    "from PyPDF2 import PdfFileReader\n",
    "pdf_reader = PdfFileReader(file_path)\n",
    "if pdf_reader.isEncrypted: #)checking\n",
    "    pdf_reader.decrypt(\"swordfish\")\n",
    "for page in pdf_reader.pages:\n",
    "    print(page.extractText()) #)to print the data"
   ]
  },
  {
   "cell_type": "markdown",
   "id": "da8c90c9",
   "metadata": {},
   "source": [
    "### 5. What methods do you use to rotate a page?"
   ]
  },
  {
   "cell_type": "markdown",
   "id": "935c64e9",
   "metadata": {},
   "source": [
    "rotateClockWise( ) - For Clockwise rotation\n",
    "\n",
    "rotateCounterClockWise( ) - For Counter Clockwise rotation"
   ]
  },
  {
   "cell_type": "markdown",
   "id": "6c7f8674",
   "metadata": {},
   "source": [
    "### 6. What is the difference between a Run object and a Paragraph object?"
   ]
  },
  {
   "cell_type": "markdown",
   "id": "717cc1e7",
   "metadata": {},
   "source": [
    "Word document contain formatted text wrapped within three object levels:\n",
    "    \n",
    "    lowest level: run objects.\n",
    "    \n",
    "    middle level: paragraph objects.\n",
    "    \n",
    "    highest level: document object.\n",
    "\n",
    "Run Object is used for inline content, text, pictures and other items within a paragraph."
   ]
  },
  {
   "cell_type": "markdown",
   "id": "bec8b84d",
   "metadata": {},
   "source": [
    "### 7. How do you obtain a list of Paragraph objects for a Document object that’s stored in a variable named doc?"
   ]
  },
  {
   "cell_type": "code",
   "execution_count": null,
   "id": "ebfaf052",
   "metadata": {},
   "outputs": [],
   "source": [
    "from docx import Document\n",
    "doc = Document(\"sample.docx\") # Path of the Docx file\n",
    "print(doc.paragraphs) # Prints the list of Paragraph objects for a Document\n",
    "for paragraph in doc.paragraphs:\n",
    "    print(paragraph.text) # Prints the text in the paragraph"
   ]
  },
  {
   "cell_type": "markdown",
   "id": "12729b93",
   "metadata": {},
   "source": [
    "### 8. What type of object has bold, underline, italic, strike, and outline variables?"
   ]
  },
  {
   "cell_type": "markdown",
   "id": "5b0d69d7",
   "metadata": {},
   "source": [
    "Run object has bold, underline, italic, strike, and outline variables."
   ]
  },
  {
   "cell_type": "markdown",
   "id": "d40306b2",
   "metadata": {},
   "source": [
    "### 9. What is the difference between False, True, and None for the bold variable?"
   ]
  },
  {
   "cell_type": "code",
   "execution_count": null,
   "id": "765f557d",
   "metadata": {},
   "outputs": [],
   "source": [
    "bold = True  # Style Set to Bold\n",
    "bold = False # Style Not Set to Bold\n",
    "bold = None # Style is Not Applicable"
   ]
  },
  {
   "cell_type": "markdown",
   "id": "ea3d6cdf",
   "metadata": {},
   "source": [
    "### 10. How do you create a Document object for a new Word document?"
   ]
  },
  {
   "cell_type": "code",
   "execution_count": null,
   "id": "50265e77",
   "metadata": {},
   "outputs": [],
   "source": [
    "from docx import Document\n",
    "document = Document()\n",
    "document.add_paragraph(\"hello world\")\n",
    "document.save('fsds.docx')"
   ]
  },
  {
   "cell_type": "markdown",
   "id": "67d9da3b",
   "metadata": {},
   "source": [
    "### 11. How do you add a paragraph with the text &#39;Hello, there!&#39; to a Document object stored in a variable named doc?"
   ]
  },
  {
   "cell_type": "code",
   "execution_count": null,
   "id": "83184ec0",
   "metadata": {},
   "outputs": [],
   "source": [
    "doc = Document()\n",
    "doc.add_paragraph('Hello, there!')\n",
    "doc.save('hello.docx')"
   ]
  },
  {
   "cell_type": "markdown",
   "id": "736b8d20",
   "metadata": {},
   "source": [
    "### 12. What integers represent the levels of headings available in Word documents?"
   ]
  },
  {
   "cell_type": "markdown",
   "id": "67bc1308",
   "metadata": {},
   "source": [
    "There are Integers levels of 1 to 4 are available, where 1 is the main heading and 4 is the lowest subheading."
   ]
  },
  {
   "cell_type": "code",
   "execution_count": null,
   "id": "45953dec",
   "metadata": {},
   "outputs": [],
   "source": []
  }
 ],
 "metadata": {
  "kernelspec": {
   "display_name": "Python 3 (ipykernel)",
   "language": "python",
   "name": "python3"
  },
  "language_info": {
   "codemirror_mode": {
    "name": "ipython",
    "version": 3
   },
   "file_extension": ".py",
   "mimetype": "text/x-python",
   "name": "python",
   "nbconvert_exporter": "python",
   "pygments_lexer": "ipython3",
   "version": "3.9.7"
  }
 },
 "nbformat": 4,
 "nbformat_minor": 5
}
